{
 "cells": [
  {
   "cell_type": "code",
   "execution_count": 1,
   "id": "initial_id",
   "metadata": {
    "collapsed": true,
    "ExecuteTime": {
     "end_time": "2025-09-27T19:55:20.027654Z",
     "start_time": "2025-09-27T19:55:11.944433Z"
    }
   },
   "outputs": [
    {
     "name": "stdout",
     "output_type": "stream",
     "text": [
      "Collecting ucimlrepo\r\n",
      "  Downloading ucimlrepo-0.0.7-py3-none-any.whl.metadata (5.5 kB)\r\n",
      "Requirement already satisfied: pandas>=1.0.0 in /Users/user/miniconda3/lib/python3.11/site-packages (from ucimlrepo) (2.2.0)\r\n",
      "Requirement already satisfied: certifi>=2020.12.5 in /Users/user/miniconda3/lib/python3.11/site-packages (from ucimlrepo) (2024.2.2)\r\n",
      "Requirement already satisfied: numpy<2,>=1.23.2 in /Users/user/miniconda3/lib/python3.11/site-packages (from pandas>=1.0.0->ucimlrepo) (1.26.3)\r\n",
      "Requirement already satisfied: python-dateutil>=2.8.2 in /Users/user/miniconda3/lib/python3.11/site-packages (from pandas>=1.0.0->ucimlrepo) (2.8.2)\r\n",
      "Requirement already satisfied: pytz>=2020.1 in /Users/user/miniconda3/lib/python3.11/site-packages (from pandas>=1.0.0->ucimlrepo) (2024.1)\r\n",
      "Requirement already satisfied: tzdata>=2022.7 in /Users/user/miniconda3/lib/python3.11/site-packages (from pandas>=1.0.0->ucimlrepo) (2023.4)\r\n",
      "Requirement already satisfied: six>=1.5 in /Users/user/miniconda3/lib/python3.11/site-packages (from python-dateutil>=2.8.2->pandas>=1.0.0->ucimlrepo) (1.16.0)\r\n",
      "Downloading ucimlrepo-0.0.7-py3-none-any.whl (8.0 kB)\r\n",
      "Installing collected packages: ucimlrepo\r\n",
      "Successfully installed ucimlrepo-0.0.7\r\n"
     ]
    }
   ],
   "source": [
    "#ucimlrepo package\n",
    "!pip3 install -U ucimlrepo "
   ]
  },
  {
   "cell_type": "code",
   "outputs": [],
   "source": [],
   "metadata": {
    "collapsed": false
   },
   "id": "78185d275c3cb766"
  }
 ],
 "metadata": {
  "kernelspec": {
   "display_name": "Python 3",
   "language": "python",
   "name": "python3"
  },
  "language_info": {
   "codemirror_mode": {
    "name": "ipython",
    "version": 2
   },
   "file_extension": ".py",
   "mimetype": "text/x-python",
   "name": "python",
   "nbconvert_exporter": "python",
   "pygments_lexer": "ipython2",
   "version": "2.7.6"
  }
 },
 "nbformat": 4,
 "nbformat_minor": 5
}
